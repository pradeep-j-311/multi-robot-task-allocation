{
 "cells": [
  {
   "cell_type": "markdown",
   "metadata": {},
   "source": [
    "# Traditional task allocation strategies\n",
    "\n",
    "In this notebook, two traditional task allocation strategies are implemented. \n",
    "- Auction based approach \n",
    "- Vacancy-chain approach \n",
    "\n",
    "There are two different environements considered. \n",
    "1. Simple grid environement where each square represents a unique location. \n",
    "2. Complex graph network environments which consists of nodes and edges that form connections between the nodes. "
   ]
  },
  {
   "cell_type": "markdown",
   "metadata": {},
   "source": [
    "## Import necessary libraries "
   ]
  },
  {
   "cell_type": "code",
   "execution_count": 171,
   "metadata": {},
   "outputs": [],
   "source": [
    "import math as m \n",
    "import random \n",
    "import numpy as np \n",
    "import seaborn as sns\n",
    "import networkx as nx\n",
    "import matplotlib.pyplot as plt"
   ]
  },
  {
   "cell_type": "markdown",
   "metadata": {},
   "source": [
    "## Auction-based approach"
   ]
  },
  {
   "cell_type": "code",
   "execution_count": 257,
   "metadata": {},
   "outputs": [],
   "source": [
    "def euclidean(robot, task): \n",
    "     return m.sqrt((robot[0]-task[0])**2 + (robot[1] - task[1])**2)\n",
    "\n",
    "def auction(robot_locations, task_locations, G=None): \n",
    "     assigned_tasks = {}\n",
    "     no_robots = len(robot_locations)\n",
    "     no_tasks = len(task_locations)\n",
    "     for i in range(no_robots): \n",
    "         assigned_tasks['robot {}'.format(i)] = [robot_locations[i]]\n",
    "     \n",
    "     for t in range(no_tasks): \n",
    "          cost = []\n",
    "          for r in range(no_robots): \n",
    "               if G==None:\n",
    "                    cost.append(euclidean(assigned_tasks['robot {}'.format(r)][-1], task_locations[t]))\n",
    "               else: \n",
    "                    cost.append(cost_graph_simple(G, assigned_tasks['robot {}'.format(r)][-1], task_locations[t]))\n",
    "                    \n",
    "          winner = cost.index(min(cost))\n",
    "          assigned_tasks['robot {}'.format(winner)].append(task_locations[t])\n",
    "\n",
    "     return assigned_tasks\n",
    "\n",
    "                           \n",
    "def generate_scene(map_size, no_robots, no_tasks): \n",
    "     robot_locations = []\n",
    "     task_locations = []\n",
    "     for i in range(no_robots): \n",
    "          robot_locations.append((random.randint(0, map_size-1), random.randint(0, map_size-1)))\n",
    "     for j in range(no_tasks): \n",
    "          task_locations.append((random.randint(0, map_size-1), random.randint(0, map_size-1)))\n",
    "\n",
    "     map = np.zeros(shape=(map_size, map_size))\n",
    "     for task in task_locations: \n",
    "          map[task[0], task[1]] = 1\n",
    "     for robot in robot_locations: \n",
    "          map[robot[0], robot[1]] = 2\n",
    "\n",
    "     return task_locations, robot_locations, map\n",
    "\n",
    "def vizmap(map): \n",
    "     return sns.heatmap(map, cbar=False, linecolor='black', linewidths=1.0, cmap=['white', 'red', 'blue'])\n",
    "\n",
    "def generate_network(num_nodes, connection_prob=0.1): \n",
    "    G = nx.Graph()\n",
    "    nodes = list(range(num_nodes))\n",
    "    G.add_nodes_from(nodes)\n",
    "\n",
    "    for i in range(num_nodes): \n",
    "        for j in range(num_nodes): \n",
    "            chance = random.randint(0, 100)\n",
    "            if j == i: \n",
    "                continue\n",
    "            if chance < connection_prob*100: \n",
    "                G.add_edge(i, j)\n",
    "    for node in list(G.nodes): \n",
    "        if len(list(G.neighbors(node))) < 1: \n",
    "            G.add_edge(node, nodes[random.randint(0, num_nodes - 1)])\n",
    "\n",
    "    return G\n",
    "\n",
    "def cost_graph_simple(graph, start, finish): \n",
    "    return len(nx.shortest_path(G, start, finish))-1\n",
    "\n",
    "def generate_scene_network(no_robots, no_tasks, no_nodes, connection_prob): \n",
    "    robot_locations = []\n",
    "    task_locations = []\n",
    "    for i in range(no_robots): \n",
    "        robot_locations.append(random.randint(0, no_nodes))\n",
    "    for j in range(no_tasks): \n",
    "        task_locations.append(random.randint(0, no_nodes))\n",
    "    \n",
    "    G = generate_network(no_nodes, connection_prob)\n",
    "\n",
    "    return task_locations, robot_locations, G \n"
   ]
  },
  {
   "cell_type": "markdown",
   "metadata": {},
   "source": [
    "### Test the implementation"
   ]
  },
  {
   "cell_type": "code",
   "execution_count": 262,
   "metadata": {},
   "outputs": [
    {
     "data": {
      "text/plain": [
       "{'robot 0': [28, 27, 7, 9],\n",
       " 'robot 1': [19, 21],\n",
       " 'robot 2': [17, 15],\n",
       " 'robot 3': [0, 2, 18, 0],\n",
       " 'robot 4': [16, 24, 20]}"
      ]
     },
     "execution_count": 262,
     "metadata": {},
     "output_type": "execute_result"
    }
   ],
   "source": [
    "task_locations, robot_locations, G = generate_scene_network(5, 10, 30, 0.05)\n",
    "task_alloc = auction(robot_locations, task_locations, G)\n",
    "task_alloc"
   ]
  },
  {
   "cell_type": "code",
   "execution_count": 263,
   "metadata": {},
   "outputs": [
    {
     "data": {
      "text/plain": [
       "[28, 19, 17, 0, 16]"
      ]
     },
     "execution_count": 263,
     "metadata": {},
     "output_type": "execute_result"
    }
   ],
   "source": [
    "robot_locations"
   ]
  },
  {
   "cell_type": "code",
   "execution_count": 265,
   "metadata": {},
   "outputs": [
    {
     "data": {
      "text/plain": [
       "[27, 2, 7, 18, 15, 24, 21, 9, 20, 0]"
      ]
     },
     "execution_count": 265,
     "metadata": {},
     "output_type": "execute_result"
    }
   ],
   "source": [
    "task_locations"
   ]
  },
  {
   "cell_type": "code",
   "execution_count": 264,
   "metadata": {},
   "outputs": [
    {
     "data": {
      "image/png": "[encoded data removed]",
      "text/plain": [
       "<Figure size 640x480 with 1 Axes>"
      ]
     },
     "metadata": {},
     "output_type": "display_data"
    }
   ],
   "source": [
    "nx.draw_spring(G, with_labels=True)"
   ]
  },
  {
   "cell_type": "markdown",
   "metadata": {},
   "source": [
    "## Vacancy-chain approach"
   ]
  },
  {
   "cell_type": "code",
   "execution_count": 277,
   "metadata": {},
   "outputs": [],
   "source": [
    "def non_greedy(robot_location, unexplored, G=None): \n",
    "    total_cost = 0\n",
    "    prob_dist = []\n",
    "    if G == None: # simple grid case \n",
    "        for i in range(len(unexplored)): \n",
    "            total_cost += 1/euclidean(robot_location, unexplored[i])\n",
    "        for j in range(len(unexplored)): \n",
    "            num = 1/euclidean(robot_location, unexplored[j])\n",
    "            prob_dist.append(num/total_cost)\n",
    "    else: # graph network case \n",
    "         for i in range(len(unexplored)): \n",
    "            total_cost += 1/cost_graph_simple(G, robot_location, unexplored[i])\n",
    "         for j in range(len(unexplored)): \n",
    "             num = 1/cost_graph_simple(G, robot_location, unexplored[j])\n",
    "             prob_dist.append(num/total_cost)     \n",
    "    \n",
    "    winner = prob_dist.index(max(prob_dist))\n",
    "    chosen_task = unexplored[winner]\n",
    "\n",
    "    return chosen_task, 1/num\n"
   ]
  },
  {
   "cell_type": "code",
   "execution_count": 278,
   "metadata": {},
   "outputs": [],
   "source": [
    "task_locations, robot_locations, map = generate_scene(5, 2, 3)"
   ]
  },
  {
   "cell_type": "code",
   "execution_count": 279,
   "metadata": {},
   "outputs": [
    {
     "data": {
      "text/plain": [
       "[(1, 3), (1, 1), (0, 3)]"
      ]
     },
     "execution_count": 279,
     "metadata": {},
     "output_type": "execute_result"
    }
   ],
   "source": [
    "task_locations"
   ]
  },
  {
   "cell_type": "code",
   "execution_count": 280,
   "metadata": {},
   "outputs": [
    {
     "data": {
      "text/plain": [
       "[(2, 3), (4, 3)]"
      ]
     },
     "execution_count": 280,
     "metadata": {},
     "output_type": "execute_result"
    }
   ],
   "source": [
    "robot_locations"
   ]
  },
  {
   "cell_type": "code",
   "execution_count": 281,
   "metadata": {},
   "outputs": [
    {
     "data": {
      "text/plain": [
       "(1, 3)"
      ]
     },
     "execution_count": 281,
     "metadata": {},
     "output_type": "execute_result"
    }
   ],
   "source": [
    "robot_location = robot_locations[0]\n",
    "unexplored = task_locations\n",
    "\n",
    "non_greedy(robot_location, unexplored)"
   ]
  },
  {
   "cell_type": "code",
   "execution_count": 282,
   "metadata": {},
   "outputs": [
    {
     "data": {
      "text/plain": [
       "<Axes: >"
      ]
     },
     "execution_count": 282,
     "metadata": {},
     "output_type": "execute_result"
    },
    {
     "data": {
      "image/png": "[encoded data removed]",
      "text/plain": [
       "<Figure size 640x480 with 1 Axes>"
      ]
     },
     "metadata": {},
     "output_type": "display_data"
    }
   ],
   "source": [
    "vizmap(map)"
   ]
  },
  {
   "cell_type": "code",
   "execution_count": 390,
   "metadata": {},
   "outputs": [],
   "source": [
    "class robot: \n",
    "    def __init__(self, robot_location):\n",
    "        self.current_location = robot_location \n",
    "        self.assigned_tasks = []\n",
    "\n",
    "    def non_greedy(self, unexplored, G=None): \n",
    "        total_cost = 0\n",
    "        prob_dist = []\n",
    "        if G == None: # simple grid case \n",
    "            for i in range(len(unexplored)): \n",
    "                total_cost += 1/euclidean(self.current_location, unexplored[i])\n",
    "            for j in range(len(unexplored)): \n",
    "                num = 1/euclidean(self.current_location, unexplored[j])\n",
    "                prob_dist.append(num/total_cost)\n",
    "        else: # graph network case \n",
    "            for i in range(len(unexplored)): \n",
    "                total_cost += 1/cost_graph_simple(G, self.current_location, unexplored[i])\n",
    "            for j in range(len(unexplored)): \n",
    "                num = 1/cost_graph_simple(G, self.current_location, unexplored[j])\n",
    "                prob_dist.append(num/total_cost)     \n",
    "        \n",
    "        winner = prob_dist.index(max(prob_dist))\n",
    "        chosen_task = unexplored[winner]\n",
    "\n",
    "        return winner, 1/num\n",
    "    \n",
    "    def get_broadcasts(self, another_robot, unexplored, G=None): \n",
    "        win=True\n",
    "        chosen_task, cost = self.non_greedy(unexplored, G)\n",
    "        other_chosen_task, other_cost = another_robot.non_greedy(unexplored, G)\n",
    "        if chosen_task == other_chosen_task: \n",
    "            if cost > other_cost: \n",
    "                win=False \n",
    "        return win \n",
    "\n",
    "            \n",
    "def simulate_one_time_step(robots, task_locations, G=None): \n",
    "    unexplored = task_locations\n",
    "    allocs = {}\n",
    "    u = 0\n",
    "    for robot in robots: \n",
    "        allocs['Robot {}'.format(u)] = [robot.current_location]\n",
    "        u += 1\n",
    "    for i in range(len(robots)): \n",
    "        if len(unexplored) == 0: \n",
    "            break\n",
    "        for j in range(len(robots)): \n",
    "            if j==i: \n",
    "                continue\n",
    "            status = robots[i].get_broadcasts(robots[j], unexplored, G)\n",
    "            if not status: \n",
    "                break\n",
    "        if status: \n",
    "            winner, _ = robots[i].non_greedy(unexplored, G)\n",
    "            robots[i].current_location =unexplored[winner]\n",
    "            allocs['Robot {}'.format(i)].append(unexplored.pop(winner))\n",
    "\n",
    "    return allocs\n",
    "\n"
   ]
  },
  {
   "cell_type": "code",
   "execution_count": 391,
   "metadata": {},
   "outputs": [],
   "source": [
    "task_locations, robot_locations, map = generate_scene(10, 3, 4)"
   ]
  },
  {
   "cell_type": "code",
   "execution_count": 392,
   "metadata": {},
   "outputs": [
    {
     "data": {
      "text/plain": [
       "[(6, 5), (6, 7), (8, 3), (4, 2)]"
      ]
     },
     "execution_count": 392,
     "metadata": {},
     "output_type": "execute_result"
    }
   ],
   "source": [
    "\n",
    "task_locations"
   ]
  },
  {
   "cell_type": "code",
   "execution_count": 393,
   "metadata": {},
   "outputs": [
    {
     "data": {
      "text/plain": [
       "[(0, 9), (4, 3), (1, 2)]"
      ]
     },
     "execution_count": 393,
     "metadata": {},
     "output_type": "execute_result"
    }
   ],
   "source": [
    "robot_locations"
   ]
  },
  {
   "cell_type": "code",
   "execution_count": 394,
   "metadata": {},
   "outputs": [
    {
     "data": {
      "text/plain": [
       "<Axes: >"
      ]
     },
     "execution_count": 394,
     "metadata": {},
     "output_type": "execute_result"
    },
    {
     "data": {
      "image/png": "[encoded data removed]",
      "text/plain": [
       "<Figure size 640x480 with 1 Axes>"
      ]
     },
     "metadata": {},
     "output_type": "display_data"
    }
   ],
   "source": [
    "vizmap(map)"
   ]
  },
  {
   "cell_type": "code",
   "execution_count": 395,
   "metadata": {},
   "outputs": [],
   "source": [
    "robots = [] \n",
    "for i in range(len(robot_locations)): \n",
    "    robots.append(robot(robot_locations[i]))"
   ]
  },
  {
   "cell_type": "code",
   "execution_count": 396,
   "metadata": {},
   "outputs": [
    {
     "data": {
      "text/plain": [
       "[<__main__.robot at 0x7fc32c8fd5e0>,\n",
       " <__main__.robot at 0x7fc32cb7f9e0>,\n",
       " <__main__.robot at 0x7fc32cadc080>]"
      ]
     },
     "execution_count": 396,
     "metadata": {},
     "output_type": "execute_result"
    }
   ],
   "source": [
    "robots"
   ]
  },
  {
   "cell_type": "code",
   "execution_count": 397,
   "metadata": {},
   "outputs": [],
   "source": [
    "allocs = simulate_one_time_step(robots, task_locations)"
   ]
  },
  {
   "cell_type": "code",
   "execution_count": 398,
   "metadata": {},
   "outputs": [
    {
     "data": {
      "text/plain": [
       "{'Robot 0': [(0, 9), (6, 7)], 'Robot 1': [(4, 3), (4, 2)], 'Robot 2': [(1, 2)]}"
      ]
     },
     "execution_count": 398,
     "metadata": {},
     "output_type": "execute_result"
    }
   ],
   "source": [
    "allocs"
   ]
  },
  {
   "cell_type": "code",
   "execution_count": 328,
   "metadata": {},
   "outputs": [
    {
     "data": {
      "text/plain": [
       "[1, 2]"
      ]
     },
     "execution_count": 328,
     "metadata": {},
     "output_type": "execute_result"
    }
   ],
   "source": [
    "test = [1, 2, 3]\n",
    "test2 = test\n",
    "test2.pop() \n",
    "test"
   ]
  },
  {
   "cell_type": "code",
   "execution_count": null,
   "metadata": {},
   "outputs": [],
   "source": []
  }
 ],
 "metadata": {
  "kernelspec": {
   "display_name": "mrta",
   "language": "python",
   "name": "python3"
  },
  "language_info": {
   "codemirror_mode": {
    "name": "ipython",
    "version": 3
   },
   "file_extension": ".py",
   "mimetype": "text/x-python",
   "name": "python",
   "nbconvert_exporter": "python",
   "pygments_lexer": "ipython3",
   "version": "3.12.1"
  }
 },
 "nbformat": 4,
 "nbformat_minor": 2
}
